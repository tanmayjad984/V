{
  "cells": [
    {
      "cell_type": "code",
      "execution_count": null,
      "metadata": {
        "id": "AfYorkrEkOhL"
      },
      "outputs": [],
      "source": []
    },
    {
      "cell_type": "code",
      "execution_count": 7,
      "metadata": {
        "id": "Qj8LqIIIjWHj"
      },
      "outputs": [],
      "source": [
        "import numpy as np\n",
        "import pandas as pd\n",
        "import tensorflow as tf\n",
        "from sklearn.model_selection import train_test_split"
      ]
    },
    {
      "cell_type": "code",
      "execution_count": 8,
      "metadata": {
        "id": "i5w5mY2mjWJu"
      },
      "outputs": [],
      "source": [
        "# Step 1: Load the Data\n",
        "train_data = pd.read_csv('fashion-mnist_train.csv')\n",
        "test_data = pd.read_csv('fashion-mnist_test.csv')"
      ]
    },
    {
      "cell_type": "code",
      "execution_count": 9,
      "metadata": {
        "id": "j0zS-7SojWMP"
      },
      "outputs": [],
      "source": [
        "# Step 2: Preprocess the Data\n",
        "X_train = train_data.iloc[:, 1:].values.astype('float32') / 255.0  # Normalize pixel values\n",
        "y_train = train_data.iloc[:, 0].values.astype('int32')\n",
        "X_test = test_data.iloc[:, 1:].values.astype('float32') / 255.0\n",
        "y_test = test_data.iloc[:, 0].values.astype('int32')"
      ]
    },
    {
      "cell_type": "code",
      "execution_count": 10,
      "metadata": {
        "id": "VfB08LybjWOf"
      },
      "outputs": [],
      "source": [
        "# Step 3: Build the Model\n",
        "model = tf.keras.Sequential([\n",
        "    tf.keras.layers.Dense(128, activation='relu', input_shape=(784,)),\n",
        "    tf.keras.layers.Dense(10, activation='softmax')\n",
        "])"
      ]
    },
    {
      "cell_type": "code",
      "execution_count": 11,
      "metadata": {
        "id": "E3AJ4oTmjWQ9"
      },
      "outputs": [],
      "source": [
        "# Step 4: Compile the Model\n",
        "model.compile(optimizer='adam',\n",
        "              loss='sparse_categorical_crossentropy',\n",
        "              metrics=['accuracy'])"
      ]
    },
    {
      "cell_type": "code",
      "execution_count": 12,
      "metadata": {
        "colab": {
          "base_uri": "https://localhost:8080/"
        },
        "id": "Lf-UvuDNjWTq",
        "outputId": "0458942c-b010-4c32-a204-085771a3ffa5"
      },
      "outputs": [
        {
          "name": "stdout",
          "output_type": "stream",
          "text": [
            "Epoch 1/10\n",
            "375/375 [==============================] - 4s 7ms/step - loss: 0.5766 - accuracy: 0.8027 - val_loss: 0.4744 - val_accuracy: 0.8388\n",
            "Epoch 2/10\n",
            "375/375 [==============================] - 2s 6ms/step - loss: 0.4245 - accuracy: 0.8520 - val_loss: 0.4248 - val_accuracy: 0.8526\n",
            "Epoch 3/10\n",
            "375/375 [==============================] - 2s 5ms/step - loss: 0.3866 - accuracy: 0.8638 - val_loss: 0.3901 - val_accuracy: 0.8648\n",
            "Epoch 4/10\n",
            "375/375 [==============================] - 2s 6ms/step - loss: 0.3578 - accuracy: 0.8737 - val_loss: 0.3794 - val_accuracy: 0.8636\n",
            "Epoch 5/10\n",
            "375/375 [==============================] - 3s 9ms/step - loss: 0.3389 - accuracy: 0.8801 - val_loss: 0.3677 - val_accuracy: 0.8674\n",
            "Epoch 6/10\n",
            "375/375 [==============================] - 4s 9ms/step - loss: 0.3211 - accuracy: 0.8855 - val_loss: 0.3636 - val_accuracy: 0.8721\n",
            "Epoch 7/10\n",
            "375/375 [==============================] - 3s 7ms/step - loss: 0.3109 - accuracy: 0.8876 - val_loss: 0.3550 - val_accuracy: 0.8723\n",
            "Epoch 8/10\n",
            "375/375 [==============================] - 3s 7ms/step - loss: 0.2991 - accuracy: 0.8915 - val_loss: 0.3465 - val_accuracy: 0.8760\n",
            "Epoch 9/10\n",
            "375/375 [==============================] - 2s 7ms/step - loss: 0.2870 - accuracy: 0.8959 - val_loss: 0.3370 - val_accuracy: 0.8829\n",
            "Epoch 10/10\n",
            "375/375 [==============================] - 3s 9ms/step - loss: 0.2759 - accuracy: 0.9000 - val_loss: 0.3279 - val_accuracy: 0.8860\n"
          ]
        }
      ],
      "source": [
        "# Step 5: Train the Model\n",
        "history = model.fit(X_train, y_train, epochs=10, batch_size=128, validation_split=0.2)\n"
      ]
    },
    {
      "cell_type": "code",
      "execution_count": 13,
      "metadata": {
        "colab": {
          "base_uri": "https://localhost:8080/"
        },
        "id": "bG_hu4_1jWV4",
        "outputId": "97a86320-fe33-4f7f-b189-151d4cd5f376"
      },
      "outputs": [
        {
          "name": "stdout",
          "output_type": "stream",
          "text": [
            "313/313 [==============================] - 1s 2ms/step - loss: 0.3196 - accuracy: 0.8817\n",
            "Test Accuracy: 0.8816999793052673\n"
          ]
        }
      ],
      "source": [
        "# Step 6: Evaluate the Model\n",
        "test_loss, test_accuracy = model.evaluate(X_test, y_test)\n",
        "print(f'Test Accuracy: {test_accuracy}')"
      ]
    },
    {
      "cell_type": "code",
      "execution_count": 14,
      "metadata": {
        "colab": {
          "base_uri": "https://localhost:8080/"
        },
        "id": "eIHjeb2kjWYp",
        "outputId": "59d2785a-fb2e-4200-b9d8-38b07cdf1a44"
      },
      "outputs": [
        {
          "name": "stdout",
          "output_type": "stream",
          "text": [
            "313/313 [==============================] - 1s 2ms/step\n"
          ]
        }
      ],
      "source": [
        "# Step 7: Make Predictions\n",
        "predictions = model.predict(X_test)\n"
      ]
    },
    {
      "cell_type": "code",
      "execution_count": null,
      "metadata": {
        "id": "fWfdAChSjWbI"
      },
      "outputs": [],
      "source": [
        "predictions\n"
      ]
    },
    {
      "cell_type": "code",
      "execution_count": 17,
      "metadata": {
        "colab": {
          "base_uri": "https://localhost:8080/"
        },
        "id": "7wMQVBQRjWd1",
        "outputId": "967bd5f4-0a48-448a-830c-2361e1894479"
      },
      "outputs": [
        {
          "name": "stdout",
          "output_type": "stream",
          "text": [
            "Original Label: 3\n",
            "Predicted Label: 3\n"
          ]
        }
      ],
      "source": [
        "# Step 8: Provide Input for Prediction\n",
        "index = 10  # Index of the sample to be predicted\n",
        "input_sample = X_test[index:index+1]  # Select a single sample for prediction\n",
        "\n",
        "# Original and Predicted Values\n",
        "original_label = y_test[index]\n",
        "predicted_label = np.argmax(predictions[index])\n",
        "\n",
        "print(f'Original Label: {original_label}')\n",
        "print(f'Predicted Label: {predicted_label}')"
      ]
    },
    {
      "cell_type": "code",
      "execution_count": null,
      "metadata": {
        "id": "omMpdrtBjWgf"
      },
      "outputs": [],
      "source": []
    },
    {
      "cell_type": "code",
      "execution_count": null,
      "metadata": {
        "id": "CS1DCc5PjWiu"
      },
      "outputs": [],
      "source": []
    },
    {
      "cell_type": "code",
      "execution_count": null,
      "metadata": {
        "id": "x5w9eIC-jWvQ"
      },
      "outputs": [],
      "source": []
    },
    {
      "cell_type": "code",
      "execution_count": null,
      "metadata": {
        "id": "oCFu8Tq1jWxw"
      },
      "outputs": [],
      "source": []
    },
    {
      "cell_type": "code",
      "execution_count": null,
      "metadata": {
        "id": "KuB2ysPGjW1K"
      },
      "outputs": [],
      "source": []
    }
  ],
  "metadata": {
    "colab": {
      "provenance": []
    },
    "kernelspec": {
      "display_name": "Python 3",
      "name": "python3"
    },
    "language_info": {
      "name": "python"
    }
  },
  "nbformat": 4,
  "nbformat_minor": 0
}
