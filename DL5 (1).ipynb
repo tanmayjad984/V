{
  "cells": [
    {
      "cell_type": "code",
      "execution_count": null,
      "metadata": {
        "id": "At6YwgJRhQs2"
      },
      "outputs": [],
      "source": []
    },
    {
      "cell_type": "code",
      "execution_count": null,
      "metadata": {
        "id": "SU1KtQ7bnNY2"
      },
      "outputs": [],
      "source": [
        "import numpy as np\n",
        "import pandas as pd\n",
        "from sklearn.preprocessing import MinMaxScaler\n",
        "from tensorflow.keras.models import Sequential\n",
        "from tensorflow.keras.layers import LSTM, Dense, Dropout\n",
        "import matplotlib.pyplot as plt\n"
      ]
    },
    {
      "cell_type": "code",
      "execution_count": null,
      "metadata": {
        "id": "1vsYimyunNa0"
      },
      "outputs": [],
      "source": [
        "# Load dataset\n",
        "data = pd.read_csv('Google_Stock_Price_Train.csv')\n",
        "# Remove commas from the 'Close' column and convert it to floats\n",
        "data['Close'] = data['Close'].str.replace(',', '').astype(float)\n",
        "\n",
        "prices = data['Close'].values.reshape(-1, 1)\n",
        "\n",
        "# Normalize the data\n",
        "scaler = MinMaxScaler(feature_range=(0, 1))\n",
        "\n",
        "prices_scaled = scaler.fit_transform(prices)"
      ]
    },
    {
      "cell_type": "code",
      "execution_count": null,
      "metadata": {
        "id": "ArIV_em5nNdY"
      },
      "outputs": [],
      "source": [
        "# Split data into training and testing sets\n",
        "train_size = int(len(prices_scaled) * 0.8)\n",
        "test_size = len(prices_scaled) - train_size\n",
        "train_data, test_data = prices_scaled[0:train_size, :], prices_scaled[train_size:len(prices_scaled), :]\n"
      ]
    },
    {
      "cell_type": "code",
      "execution_count": null,
      "metadata": {
        "id": "akpYG4MjnNf9"
      },
      "outputs": [],
      "source": [
        "# Function to create dataset for time series prediction\n",
        "def create_dataset(dataset, time_steps=1):\n",
        "    X, y = [], []\n",
        "    for i in range(len(dataset) - time_steps - 1):\n",
        "        X.append(dataset[i:(i + time_steps), 0])\n",
        "        y.append(dataset[i + time_steps, 0])\n",
        "    return np.array(X), np.array(y)\n"
      ]
    },
    {
      "cell_type": "code",
      "execution_count": null,
      "metadata": {
        "id": "8RWMC5T1nNid"
      },
      "outputs": [],
      "source": [
        "# Define time steps\n",
        "time_steps = 60\n"
      ]
    },
    {
      "cell_type": "code",
      "execution_count": null,
      "metadata": {
        "id": "BDgVuJBInNky"
      },
      "outputs": [],
      "source": [
        "# Create training and testing datasets\n",
        "X_train, y_train = create_dataset(train_data, time_steps)\n",
        "X_test, y_test = create_dataset(test_data, time_steps)\n",
        "\n",
        "# Reshape input data to be 3-dimensional [samples, time steps, features]\n",
        "X_train = np.reshape(X_train, (X_train.shape[0], X_train.shape[1], 1))\n",
        "X_test = np.reshape(X_test, (X_test.shape[0], X_test.shape[1], 1))"
      ]
    },
    {
      "cell_type": "code",
      "execution_count": null,
      "metadata": {
        "id": "CZ-fQ9NEnNnm"
      },
      "outputs": [],
      "source": [
        "# Build the LSTM model\n",
        "model = Sequential([\n",
        "    LSTM(units=50, return_sequences=True, input_shape=(time_steps, 1)),\n",
        "    Dropout(0.2),\n",
        "    LSTM(units=50, return_sequences=True),\n",
        "    Dropout(0.2),\n",
        "    LSTM(units=50),\n",
        "    Dropout(0.2),\n",
        "    Dense(units=1)\n",
        "])\n",
        "\n"
      ]
    },
    {
      "cell_type": "code",
      "execution_count": null,
      "metadata": {
        "colab": {
          "base_uri": "https://localhost:8080/"
        },
        "id": "1t6nrjDznNpt",
        "outputId": "9612da39-c5bf-49fa-f64b-26573294cb34"
      },
      "outputs": [
        {
          "name": "stdout",
          "output_type": "stream",
          "text": [
            "Epoch 1/100\n",
            "30/30 [==============================] - 9s 88ms/step - loss: 0.0400\n",
            "Epoch 2/100\n",
            "30/30 [==============================] - 4s 132ms/step - loss: 0.0105\n",
            "Epoch 3/100\n",
            "30/30 [==============================] - 3s 87ms/step - loss: 0.0094\n",
            "Epoch 4/100\n",
            "30/30 [==============================] - 3s 89ms/step - loss: 0.0087\n",
            "Epoch 5/100\n",
            "30/30 [==============================] - 3s 88ms/step - loss: 0.0083\n",
            "Epoch 6/100\n",
            "30/30 [==============================] - 4s 120ms/step - loss: 0.0070\n",
            "Epoch 7/100\n",
            "30/30 [==============================] - 3s 95ms/step - loss: 0.0055\n",
            "Epoch 8/100\n",
            "30/30 [==============================] - 3s 88ms/step - loss: 0.0063\n",
            "Epoch 9/100\n",
            "30/30 [==============================] - 3s 89ms/step - loss: 0.0047\n",
            "Epoch 10/100\n",
            "30/30 [==============================] - 3s 92ms/step - loss: 0.0049\n",
            "Epoch 11/100\n",
            "30/30 [==============================] - 4s 140ms/step - loss: 0.0061\n",
            "Epoch 12/100\n",
            "30/30 [==============================] - 3s 90ms/step - loss: 0.0048\n",
            "Epoch 13/100\n",
            "30/30 [==============================] - 3s 90ms/step - loss: 0.0047\n",
            "Epoch 14/100\n",
            "30/30 [==============================] - 3s 90ms/step - loss: 0.0059\n",
            "Epoch 15/100\n",
            "30/30 [==============================] - 4s 129ms/step - loss: 0.0045\n",
            "Epoch 16/100\n",
            "30/30 [==============================] - 3s 88ms/step - loss: 0.0051\n",
            "Epoch 17/100\n",
            "30/30 [==============================] - 3s 88ms/step - loss: 0.0049\n",
            "Epoch 18/100\n",
            "30/30 [==============================] - 3s 90ms/step - loss: 0.0044\n",
            "Epoch 19/100\n",
            "30/30 [==============================] - 4s 118ms/step - loss: 0.0050\n",
            "Epoch 20/100\n",
            "30/30 [==============================] - 3s 98ms/step - loss: 0.0043\n",
            "Epoch 21/100\n",
            "30/30 [==============================] - 3s 104ms/step - loss: 0.0042\n",
            "Epoch 22/100\n",
            "30/30 [==============================] - 3s 89ms/step - loss: 0.0036\n",
            "Epoch 23/100\n",
            "30/30 [==============================] - 3s 105ms/step - loss: 0.0032\n",
            "Epoch 24/100\n",
            "30/30 [==============================] - 3s 115ms/step - loss: 0.0038\n",
            "Epoch 25/100\n",
            "30/30 [==============================] - 3s 90ms/step - loss: 0.0048\n",
            "Epoch 26/100\n",
            "30/30 [==============================] - 3s 89ms/step - loss: 0.0038\n",
            "Epoch 27/100\n",
            "30/30 [==============================] - 3s 90ms/step - loss: 0.0038\n",
            "Epoch 28/100\n",
            "30/30 [==============================] - 4s 127ms/step - loss: 0.0039\n",
            "Epoch 29/100\n",
            "30/30 [==============================] - 3s 88ms/step - loss: 0.0040\n",
            "Epoch 30/100\n",
            "30/30 [==============================] - 3s 88ms/step - loss: 0.0037\n",
            "Epoch 31/100\n",
            "30/30 [==============================] - 3s 89ms/step - loss: 0.0031\n",
            "Epoch 32/100\n",
            "30/30 [==============================] - 4s 118ms/step - loss: 0.0034\n",
            "Epoch 33/100\n",
            "30/30 [==============================] - 3s 100ms/step - loss: 0.0030\n",
            "Epoch 34/100\n",
            "30/30 [==============================] - 3s 90ms/step - loss: 0.0033\n",
            "Epoch 35/100\n",
            "30/30 [==============================] - 3s 91ms/step - loss: 0.0032\n",
            "Epoch 36/100\n",
            "30/30 [==============================] - 3s 97ms/step - loss: 0.0030\n",
            "Epoch 37/100\n",
            "30/30 [==============================] - 4s 117ms/step - loss: 0.0040\n",
            "Epoch 38/100\n",
            "30/30 [==============================] - 3s 87ms/step - loss: 0.0027\n",
            "Epoch 39/100\n",
            "30/30 [==============================] - 3s 89ms/step - loss: 0.0037\n",
            "Epoch 40/100\n",
            "30/30 [==============================] - 3s 87ms/step - loss: 0.0032\n",
            "Epoch 41/100\n",
            "30/30 [==============================] - 4s 130ms/step - loss: 0.0030\n",
            "Epoch 42/100\n",
            "30/30 [==============================] - 3s 88ms/step - loss: 0.0027\n",
            "Epoch 43/100\n",
            "30/30 [==============================] - 3s 93ms/step - loss: 0.0028\n",
            "Epoch 44/100\n",
            "30/30 [==============================] - 3s 90ms/step - loss: 0.0029\n",
            "Epoch 45/100\n",
            "30/30 [==============================] - 3s 113ms/step - loss: 0.0028\n",
            "Epoch 46/100\n",
            "30/30 [==============================] - 3s 105ms/step - loss: 0.0027\n",
            "Epoch 47/100\n",
            "30/30 [==============================] - 3s 90ms/step - loss: 0.0027\n",
            "Epoch 48/100\n",
            "30/30 [==============================] - 3s 89ms/step - loss: 0.0027\n",
            "Epoch 49/100\n",
            "30/30 [==============================] - 3s 90ms/step - loss: 0.0027\n",
            "Epoch 50/100\n",
            "30/30 [==============================] - 4s 124ms/step - loss: 0.0027\n",
            "Epoch 51/100\n",
            "30/30 [==============================] - 3s 88ms/step - loss: 0.0028\n",
            "Epoch 52/100\n",
            "30/30 [==============================] - 3s 88ms/step - loss: 0.0025\n",
            "Epoch 53/100\n",
            "30/30 [==============================] - 3s 92ms/step - loss: 0.0032\n",
            "Epoch 54/100\n",
            "30/30 [==============================] - 4s 149ms/step - loss: 0.0031\n",
            "Epoch 55/100\n",
            "30/30 [==============================] - 3s 89ms/step - loss: 0.0027\n",
            "Epoch 56/100\n",
            "30/30 [==============================] - 3s 92ms/step - loss: 0.0022\n",
            "Epoch 57/100\n",
            "30/30 [==============================] - 3s 89ms/step - loss: 0.0023\n",
            "Epoch 58/100\n",
            "30/30 [==============================] - 3s 113ms/step - loss: 0.0028\n",
            "Epoch 59/100\n",
            "30/30 [==============================] - 3s 102ms/step - loss: 0.0023\n",
            "Epoch 60/100\n",
            "30/30 [==============================] - 3s 91ms/step - loss: 0.0026\n",
            "Epoch 61/100\n",
            "30/30 [==============================] - 3s 89ms/step - loss: 0.0028\n",
            "Epoch 62/100\n",
            "30/30 [==============================] - 3s 93ms/step - loss: 0.0026\n",
            "Epoch 63/100\n",
            "30/30 [==============================] - 4s 139ms/step - loss: 0.0028\n",
            "Epoch 64/100\n",
            "30/30 [==============================] - 3s 92ms/step - loss: 0.0025\n",
            "Epoch 65/100\n",
            "30/30 [==============================] - 3s 89ms/step - loss: 0.0031\n",
            "Epoch 66/100\n",
            "30/30 [==============================] - 3s 90ms/step - loss: 0.0025\n",
            "Epoch 67/100\n",
            "30/30 [==============================] - 4s 132ms/step - loss: 0.0023\n",
            "Epoch 68/100\n",
            "30/30 [==============================] - 3s 90ms/step - loss: 0.0020\n",
            "Epoch 69/100\n",
            "30/30 [==============================] - 3s 88ms/step - loss: 0.0022\n",
            "Epoch 70/100\n",
            "30/30 [==============================] - 3s 89ms/step - loss: 0.0019\n",
            "Epoch 71/100\n",
            "30/30 [==============================] - 5s 156ms/step - loss: 0.0024\n",
            "Epoch 72/100\n",
            "30/30 [==============================] - 3s 106ms/step - loss: 0.0024\n",
            "Epoch 73/100\n",
            "30/30 [==============================] - 3s 89ms/step - loss: 0.0021\n",
            "Epoch 74/100\n",
            "30/30 [==============================] - 3s 90ms/step - loss: 0.0021\n",
            "Epoch 75/100\n",
            "30/30 [==============================] - 3s 89ms/step - loss: 0.0021\n",
            "Epoch 76/100\n",
            "30/30 [==============================] - 4s 127ms/step - loss: 0.0024\n",
            "Epoch 77/100\n",
            "30/30 [==============================] - 3s 88ms/step - loss: 0.0024\n",
            "Epoch 78/100\n",
            "30/30 [==============================] - 3s 89ms/step - loss: 0.0019\n",
            "Epoch 79/100\n",
            "30/30 [==============================] - 3s 90ms/step - loss: 0.0022\n",
            "Epoch 80/100\n",
            "30/30 [==============================] - 4s 129ms/step - loss: 0.0022\n",
            "Epoch 81/100\n",
            "30/30 [==============================] - 3s 87ms/step - loss: 0.0023\n",
            "Epoch 82/100\n",
            "30/30 [==============================] - 3s 88ms/step - loss: 0.0023\n",
            "Epoch 83/100\n",
            "30/30 [==============================] - 3s 88ms/step - loss: 0.0022\n",
            "Epoch 84/100\n",
            "30/30 [==============================] - 3s 99ms/step - loss: 0.0022\n",
            "Epoch 85/100\n",
            "30/30 [==============================] - 3s 115ms/step - loss: 0.0021\n",
            "Epoch 86/100\n",
            "30/30 [==============================] - 3s 87ms/step - loss: 0.0020\n",
            "Epoch 87/100\n",
            "30/30 [==============================] - 3s 88ms/step - loss: 0.0024\n",
            "Epoch 88/100\n",
            "30/30 [==============================] - 3s 88ms/step - loss: 0.0020\n",
            "Epoch 89/100\n",
            "30/30 [==============================] - 4s 126ms/step - loss: 0.0023\n",
            "Epoch 90/100\n",
            "30/30 [==============================] - 3s 87ms/step - loss: 0.0023\n",
            "Epoch 91/100\n",
            "30/30 [==============================] - 3s 88ms/step - loss: 0.0020\n",
            "Epoch 92/100\n",
            "30/30 [==============================] - 3s 88ms/step - loss: 0.0022\n",
            "Epoch 93/100\n",
            "30/30 [==============================] - 3s 106ms/step - loss: 0.0019\n",
            "Epoch 94/100\n",
            "30/30 [==============================] - 3s 109ms/step - loss: 0.0022\n",
            "Epoch 95/100\n",
            "30/30 [==============================] - 3s 88ms/step - loss: 0.0023\n",
            "Epoch 96/100\n",
            "30/30 [==============================] - 3s 90ms/step - loss: 0.0021\n",
            "Epoch 97/100\n",
            "30/30 [==============================] - 3s 88ms/step - loss: 0.0022\n",
            "Epoch 98/100\n",
            "30/30 [==============================] - 4s 129ms/step - loss: 0.0022\n",
            "Epoch 99/100\n",
            "30/30 [==============================] - 3s 87ms/step - loss: 0.0022\n",
            "Epoch 100/100\n",
            "30/30 [==============================] - 3s 87ms/step - loss: 0.0018\n"
          ]
        },
        {
          "data": {
            "text/plain": [
              "<keras.src.callbacks.History at 0x7970667b0df0>"
            ]
          },
          "execution_count": 10,
          "metadata": {},
          "output_type": "execute_result"
        }
      ],
      "source": [
        "# Compile the model\n",
        "model.compile(optimizer='adam', loss='mean_squared_error')\n",
        "\n",
        "# Train the model\n",
        "model.fit(X_train, y_train, epochs=100, batch_size=32)"
      ]
    },
    {
      "cell_type": "code",
      "execution_count": null,
      "metadata": {
        "colab": {
          "base_uri": "https://localhost:8080/"
        },
        "id": "eZ8n_LM9nNsI",
        "outputId": "e2598e74-674b-4c94-ba46-ea8483d62593"
      },
      "outputs": [
        {
          "name": "stdout",
          "output_type": "stream",
          "text": [
            "6/6 [==============================] - 1s 31ms/step\n"
          ]
        }
      ],
      "source": [
        "# Make predictions\n",
        "predictions = model.predict(X_test)\n",
        "predictions = scaler.inverse_transform(predictions)\n",
        "\n"
      ]
    },
    {
      "cell_type": "code",
      "execution_count": null,
      "metadata": {
        "colab": {
          "base_uri": "https://localhost:8080/",
          "height": 472
        },
        "id": "ZK1sBzTznNu3",
        "outputId": "824beeed-e36f-49dd-830a-334fdd54e72c"
      },
      "outputs": [
        {
          "data": {
            "image/png": "[encoded data removed]",
            "text/plain": [
              "<Figure size 640x480 with 1 Axes>"
            ]
          },
          "metadata": {},
          "output_type": "display_data"
        }
      ],
      "source": [
        "# Visualize the results\n",
        "plt.plot(data['Date'][-len(predictions):], data['Close'][-len(predictions):], label='Actual Prices')\n",
        "plt.plot(data['Date'][-len(predictions):], predictions, label='Predicted Prices')\n",
        "plt.xlabel('Date')\n",
        "plt.ylabel('Close Price')\n",
        "plt.title('Google Stock Prices Prediction')\n",
        "plt.legend()\n",
        "plt.show()"
      ]
    },
    {
      "cell_type": "code",
      "execution_count": null,
      "metadata": {
        "id": "wiAxzJb9nNxx"
      },
      "outputs": [],
      "source": []
    },
    {
      "cell_type": "code",
      "execution_count": null,
      "metadata": {
        "id": "vS2FVzCHnNzy"
      },
      "outputs": [],
      "source": []
    },
    {
      "cell_type": "code",
      "execution_count": null,
      "metadata": {
        "id": "O03YQD1UnN2e"
      },
      "outputs": [],
      "source": []
    },
    {
      "cell_type": "code",
      "execution_count": null,
      "metadata": {
        "id": "bZR7nrJWnN42"
      },
      "outputs": [],
      "source": []
    },
    {
      "cell_type": "code",
      "execution_count": null,
      "metadata": {
        "id": "euVaZb_tnN7J"
      },
      "outputs": [],
      "source": []
    },
    {
      "cell_type": "code",
      "execution_count": null,
      "metadata": {
        "id": "8HlMIf1OnN9-"
      },
      "outputs": [],
      "source": []
    },
    {
      "cell_type": "code",
      "execution_count": null,
      "metadata": {
        "id": "Mb2rrqQKnOAa"
      },
      "outputs": [],
      "source": []
    },
    {
      "cell_type": "code",
      "execution_count": null,
      "metadata": {
        "id": "vzsrkGTInODz"
      },
      "outputs": [],
      "source": []
    }
  ],
  "metadata": {
    "colab": {
      "provenance": []
    },
    "kernelspec": {
      "display_name": "Python 3",
      "name": "python3"
    },
    "language_info": {
      "name": "python"
    }
  },
  "nbformat": 4,
  "nbformat_minor": 0
}
