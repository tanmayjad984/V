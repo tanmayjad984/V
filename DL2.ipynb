{
  "cells": [
    {
      "cell_type": "code",
      "execution_count": 31,
      "metadata": {
        "id": "25A0laCcFQvz"
      },
      "outputs": [],
      "source": [
        "import pandas as pd\n",
        "from sklearn.model_selection import train_test_split\n",
        "from tensorflow.keras.preprocessing.text import Tokenizer\n",
        "from tensorflow.keras.preprocessing.sequence import pad_sequences\n",
        "from tensorflow.keras.models import Sequential\n",
        "from tensorflow.keras.layers import Dense, Embedding, Flatten"
      ]
    },
    {
      "cell_type": "code",
      "execution_count": 31,
      "metadata": {
        "id": "iqPPYdLTWrli"
      },
      "outputs": [],
      "source": []
    },
    {
      "cell_type": "code",
      "execution_count": null,
      "metadata": {
        "id": "mFYf-q5-WroA"
      },
      "outputs": [
        {
          "ename": "",
          "evalue": "",
          "output_type": "error",
          "traceback": [
            "\u001b[1;31mRunning cells with 'Python 3.11.8' requires the ipykernel package.\n",
            "\u001b[1;31mRun the following command to install 'ipykernel' into the Python environment. \n",
            "\u001b[1;31mCommand: '\"c:/Program Files/Python311/python.exe\" -m pip install ipykernel -U --user --force-reinstall'"
          ]
        }
      ],
      "source": [
        "# Load dataset\n",
        "dataset = pd.read_csv('IMDB Dataset.csv')\n",
        "\n",
        "# Split dataset into features and labels\n",
        "X = dataset['review']\n",
        "y = dataset['sentiment']\n",
        "\n",
        "# Tokenize the text data\n",
        "tokenizer = Tokenizer(num_words=10000)\n",
        "tokenizer.fit_on_texts(X)\n",
        "X = tokenizer.texts_to_sequences(X)\n",
        "\n",
        "# Pad sequences to make them of equal length\n",
        "X = pad_sequences(X, maxlen=100)\n",
        "\n",
        "# Convert labels to numerical values (0 for negative, 1 for positive)\n",
        "y = (y == 'positive').astype(int)\n"
      ]
    },
    {
      "cell_type": "code",
      "execution_count": 33,
      "metadata": {
        "id": "FwvqILfEWrqV"
      },
      "outputs": [],
      "source": [
        "X_train, X_test, y_train, y_test = train_test_split(X, y, test_size=0.2, random_state=42)\n"
      ]
    },
    {
      "cell_type": "code",
      "execution_count": 34,
      "metadata": {
        "colab": {
          "base_uri": "https://localhost:8080/"
        },
        "id": "JG6vkr5fWrs3",
        "outputId": "82d4136a-1c82-402b-9377-f80574de6325"
      },
      "outputs": [
        {
          "name": "stdout",
          "output_type": "stream",
          "text": [
            "Epoch 1/10\n",
            "1125/1125 [==============================] - 11s 9ms/step - loss: 0.3856 - accuracy: 0.8177 - val_loss: 0.3225 - val_accuracy: 0.8627\n",
            "Epoch 2/10\n",
            "1125/1125 [==============================] - 10s 9ms/step - loss: 0.1513 - accuracy: 0.9453 - val_loss: 0.4279 - val_accuracy: 0.8363\n",
            "Epoch 3/10\n",
            "1125/1125 [==============================] - 11s 10ms/step - loss: 0.0261 - accuracy: 0.9923 - val_loss: 0.6590 - val_accuracy: 0.8357\n",
            "Epoch 4/10\n",
            "1125/1125 [==============================] - 10s 9ms/step - loss: 0.0042 - accuracy: 0.9991 - val_loss: 0.8206 - val_accuracy: 0.8405\n",
            "Epoch 5/10\n",
            "1125/1125 [==============================] - 11s 10ms/step - loss: 8.4161e-04 - accuracy: 0.9999 - val_loss: 0.9138 - val_accuracy: 0.8422\n",
            "Epoch 6/10\n",
            "1125/1125 [==============================] - 9s 8ms/step - loss: 8.6458e-05 - accuracy: 1.0000 - val_loss: 0.9560 - val_accuracy: 0.8450\n",
            "Epoch 7/10\n",
            "1125/1125 [==============================] - 11s 10ms/step - loss: 3.4420e-05 - accuracy: 1.0000 - val_loss: 0.9917 - val_accuracy: 0.8450\n",
            "Epoch 8/10\n",
            "1125/1125 [==============================] - 11s 10ms/step - loss: 1.9158e-05 - accuracy: 1.0000 - val_loss: 1.0279 - val_accuracy: 0.8468\n",
            "Epoch 9/10\n",
            "1125/1125 [==============================] - 11s 9ms/step - loss: 1.0844e-05 - accuracy: 1.0000 - val_loss: 1.0662 - val_accuracy: 0.8478\n",
            "Epoch 10/10\n",
            "1125/1125 [==============================] - 9s 8ms/step - loss: 6.0655e-06 - accuracy: 1.0000 - val_loss: 1.1044 - val_accuracy: 0.8480\n"
          ]
        },
        {
          "data": {
            "text/plain": [
              "<keras.src.callbacks.History at 0x7f78d6c7ec80>"
            ]
          },
          "execution_count": 34,
          "metadata": {},
          "output_type": "execute_result"
        }
      ],
      "source": [
        "# Define the model\n",
        "model = Sequential()\n",
        "model.add(Embedding(10000, 32, input_length=100))\n",
        "model.add(Flatten())\n",
        "model.add(Dense(64, activation='relu'))\n",
        "model.add(Dense(1, activation='sigmoid'))\n",
        "\n",
        "# Compile the model\n",
        "model.compile(optimizer='adam', loss='binary_crossentropy', metrics=['accuracy'])\n",
        "\n",
        "# Train the model\n",
        "model.fit(X_train, y_train, epochs=10, batch_size=32, validation_split=0.1)\n"
      ]
    },
    {
      "cell_type": "code",
      "execution_count": 35,
      "metadata": {
        "colab": {
          "base_uri": "https://localhost:8080/"
        },
        "id": "KJHEkRPuWrvf",
        "outputId": "eaf8a7c7-a9eb-4a26-8671-9042e1eb0d17"
      },
      "outputs": [
        {
          "name": "stdout",
          "output_type": "stream",
          "text": [
            "313/313 [==============================] - 1s 2ms/step - loss: 1.0373 - accuracy: 0.8441\n",
            "Test Accuracy: 0.8440999984741211\n"
          ]
        }
      ],
      "source": [
        "# Evaluate the model\n",
        "loss, accuracy = model.evaluate(X_test, y_test)\n",
        "print('Test Accuracy:', accuracy)\n"
      ]
    },
    {
      "cell_type": "code",
      "execution_count": 35,
      "metadata": {
        "id": "V8FoeHgDWrx6"
      },
      "outputs": [],
      "source": []
    },
    {
      "cell_type": "code",
      "execution_count": 36,
      "metadata": {
        "colab": {
          "base_uri": "https://localhost:8080/"
        },
        "id": "FRcKO-BnWr0M",
        "outputId": "9baa6e81-0bb2-4b93-ac3b-8a3d738246fb"
      },
      "outputs": [
        {
          "name": "stdout",
          "output_type": "stream",
          "text": [
            "1/1 [==============================] - 0s 97ms/step\n",
            "Original Sentiment: positive\n",
            "Predicted Sentiment: positive\n"
          ]
        }
      ],
      "source": [
        "# Load dataset\n",
        "dataset = pd.read_csv('/content/IMDB Dataset.csv')\n",
        "\n",
        "# Assume 'review_text' is the column containing the reviews\n",
        "review_to_predict = dataset['review'].iloc[0]  # Selecting the first review for prediction\n",
        "original_sentiment = dataset['sentiment'].iloc[0]  # Original sentiment label\n",
        "\n",
        "# Tokenize and pad the review\n",
        "review_sequence = tokenizer.texts_to_sequences([review_to_predict])\n",
        "review_sequence = pad_sequences(review_sequence, maxlen=100)\n",
        "\n",
        "# Predict sentiment\n",
        "predicted_sentiment = model.predict(review_sequence)\n",
        "\n",
        "# Convert predicted sentiment to 'positive' or 'negative'\n",
        "predicted_sentiment_label = 'positive' if predicted_sentiment > 0.5 else 'negative'\n",
        "\n",
        "# Print original and predicted sentiment\n",
        "print(\"Original Sentiment:\", original_sentiment)\n",
        "print(\"Predicted Sentiment:\", predicted_sentiment_label)\n"
      ]
    },
    {
      "cell_type": "code",
      "execution_count": 35,
      "metadata": {
        "id": "NN4VgqKIWr2i"
      },
      "outputs": [],
      "source": []
    },
    {
      "cell_type": "code",
      "execution_count": 35,
      "metadata": {
        "id": "J0aGukLxWr4o"
      },
      "outputs": [],
      "source": []
    },
    {
      "cell_type": "code",
      "execution_count": null,
      "metadata": {
        "id": "bhKlD9LYWr7N"
      },
      "outputs": [],
      "source": []
    },
    {
      "cell_type": "code",
      "execution_count": null,
      "metadata": {
        "id": "Ie5H2mDzWr9n"
      },
      "outputs": [],
      "source": []
    },
    {
      "cell_type": "code",
      "execution_count": null,
      "metadata": {
        "id": "fRJlPrsNWsAT"
      },
      "outputs": [],
      "source": []
    },
    {
      "cell_type": "code",
      "execution_count": null,
      "metadata": {
        "id": "uEhviFSwWsC2"
      },
      "outputs": [],
      "source": []
    },
    {
      "cell_type": "code",
      "execution_count": null,
      "metadata": {
        "id": "jL7dsxIHWsFi"
      },
      "outputs": [],
      "source": []
    },
    {
      "cell_type": "code",
      "execution_count": null,
      "metadata": {
        "id": "oUIRDZNbWsIU"
      },
      "outputs": [],
      "source": []
    },
    {
      "cell_type": "code",
      "execution_count": null,
      "metadata": {
        "id": "xQYp8JBSWsK_"
      },
      "outputs": [],
      "source": []
    },
    {
      "cell_type": "code",
      "execution_count": null,
      "metadata": {
        "id": "dQCI9CwgWsNx"
      },
      "outputs": [],
      "source": []
    },
    {
      "cell_type": "code",
      "execution_count": null,
      "metadata": {
        "id": "mGJD9TlWWsQY"
      },
      "outputs": [],
      "source": []
    },
    {
      "cell_type": "code",
      "execution_count": null,
      "metadata": {
        "id": "QeBlQ0EJWsSc"
      },
      "outputs": [],
      "source": []
    },
    {
      "cell_type": "code",
      "execution_count": null,
      "metadata": {
        "id": "_yf-X9vmWsVT"
      },
      "outputs": [],
      "source": []
    },
    {
      "cell_type": "code",
      "execution_count": null,
      "metadata": {
        "id": "Vb-D6OqJWsYl"
      },
      "outputs": [],
      "source": []
    },
    {
      "cell_type": "code",
      "execution_count": null,
      "metadata": {
        "id": "HBvpcFqMWsbT"
      },
      "outputs": [],
      "source": []
    },
    {
      "cell_type": "code",
      "execution_count": null,
      "metadata": {
        "id": "LxmWR7kdWsd8"
      },
      "outputs": [],
      "source": []
    },
    {
      "cell_type": "code",
      "execution_count": null,
      "metadata": {
        "id": "ykr8ufQIWsgi"
      },
      "outputs": [],
      "source": []
    },
    {
      "cell_type": "code",
      "execution_count": null,
      "metadata": {
        "id": "qYuV6acSWsiw"
      },
      "outputs": [],
      "source": []
    },
    {
      "cell_type": "code",
      "execution_count": null,
      "metadata": {
        "id": "wcP22TreWsmJ"
      },
      "outputs": [],
      "source": []
    },
    {
      "cell_type": "code",
      "execution_count": null,
      "metadata": {
        "id": "zrPqht0vRuKo"
      },
      "outputs": [],
      "source": []
    },
    {
      "cell_type": "code",
      "execution_count": null,
      "metadata": {
        "id": "_zPOtneQRuNG"
      },
      "outputs": [],
      "source": []
    },
    {
      "cell_type": "code",
      "execution_count": null,
      "metadata": {
        "id": "HvLlzad3RuQY"
      },
      "outputs": [],
      "source": []
    }
  ],
  "metadata": {
    "colab": {
      "provenance": []
    },
    "kernelspec": {
      "display_name": "Python 3",
      "name": "python3"
    },
    "language_info": {
      "name": "python",
      "version": "3.11.8"
    }
  },
  "nbformat": 4,
  "nbformat_minor": 0
}
