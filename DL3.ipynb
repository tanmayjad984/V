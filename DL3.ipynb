{
  "cells": [
    {
      "cell_type": "code",
      "execution_count": null,
      "metadata": {
        "id": "1XJv2ah1FQly"
      },
      "outputs": [],
      "source": []
    },
    {
      "cell_type": "code",
      "execution_count": 7,
      "metadata": {
        "id": "M0aSkZiZa5jt"
      },
      "outputs": [],
      "source": [
        "\n",
        "import os\n",
        "import cv2\n",
        "import numpy as np\n",
        "from sklearn.preprocessing import LabelBinarizer\n",
        "from sklearn.model_selection import train_test_split\n",
        "from tensorflow.keras.models import Sequential\n",
        "from tensorflow.keras.layers import Conv2D, MaxPooling2D, Flatten, Dense\n"
      ]
    },
    {
      "cell_type": "code",
      "execution_count": 10,
      "metadata": {
        "id": "m0qx4Vrna5mk"
      },
      "outputs": [],
      "source": [
        "def load_data(folder):\n",
        "    images = []\n",
        "    labels = []\n",
        "    for sub_folder in os.listdir(folder):\n",
        "        sub_folder_path = os.path.join(folder, sub_folder)\n",
        "        for image_file in os.listdir(sub_folder_path):\n",
        "            image_path = os.path.join(sub_folder_path, image_file)\n",
        "            try:\n",
        "                image = cv2.imread(image_path, cv2.IMREAD_GRAYSCALE)  # Load image in grayscale\n",
        "                if image is None:\n",
        "                    print(f\"Warning: Unable to load image '{image_path}'\")\n",
        "                    continue  # Skip this image and move to the next one\n",
        "                image = cv2.resize(image, (28, 28))  # Resize image to 28x28\n",
        "                images.append(image)\n",
        "                labels.append(sub_folder)\n",
        "            except Exception as e:\n",
        "                print(f\"Error loading image '{image_path}': {str(e)}\")\n",
        "    return np.array(images), np.array(labels)\n"
      ]
    },
    {
      "cell_type": "code",
      "execution_count": 11,
      "metadata": {
        "colab": {
          "base_uri": "https://localhost:8080/"
        },
        "id": "rE7zV4Hqa5n-",
        "outputId": "3f78a231-db6b-4c15-9192-4e72d5e3e9c3"
      },
      "outputs": [
        {
          "name": "stdout",
          "output_type": "stream",
          "text": [
            "Warning: Unable to load image '/content/data2/testing_data/G/44404.png'\n"
          ]
        }
      ],
      "source": [
        "# Load train and test data\n",
        "train_images, train_labels = load_data('dataset\\data2\\testing_data')\n",
        "test_images, test_labels = load_data('dataset\\data2\\training_data')\n",
        "\n",
        "# Preprocess images\n",
        "train_images = train_images.astype('float32') / 255.0  # Normalize pixel values\n",
        "test_images = test_images.astype('float32') / 255.0"
      ]
    },
    {
      "cell_type": "code",
      "execution_count": 12,
      "metadata": {
        "id": "RRHLBYJKa59x"
      },
      "outputs": [],
      "source": [
        "# Convert labels to one-hot encoding\n",
        "label_binarizer = LabelBinarizer()\n",
        "train_labels = label_binarizer.fit_transform(train_labels)\n",
        "test_labels = label_binarizer.transform(test_labels)"
      ]
    },
    {
      "cell_type": "code",
      "execution_count": 13,
      "metadata": {
        "id": "woXvRXCwa6Aa"
      },
      "outputs": [],
      "source": [
        "# Split training data into train and validation sets\n",
        "train_images, val_images, train_labels, val_labels = train_test_split(train_images, train_labels, test_size=0.2, random_state=42)\n",
        "\n",
        "# Define the model\n",
        "model = Sequential([\n",
        "    Conv2D(32, (3, 3), activation='relu', input_shape=(28, 28, 1)),\n",
        "    MaxPooling2D((2, 2)),\n",
        "    Conv2D(64, (3, 3), activation='relu'),\n",
        "    MaxPooling2D((2, 2)),\n",
        "    Conv2D(64, (3, 3), activation='relu'),\n",
        "    Flatten(),\n",
        "    Dense(64, activation='relu'),\n",
        "    Dense(36, activation='softmax')  # 36 classes (0-9, A-Z)\n",
        "])"
      ]
    },
    {
      "cell_type": "code",
      "execution_count": 14,
      "metadata": {
        "id": "TqJrsekga6Cx"
      },
      "outputs": [],
      "source": [
        "# Compile the model\n",
        "model.compile(optimizer='adam', loss='categorical_crossentropy', metrics=['accuracy'])\n"
      ]
    },
    {
      "cell_type": "code",
      "execution_count": 15,
      "metadata": {
        "colab": {
          "base_uri": "https://localhost:8080/"
        },
        "id": "f7nwlzxWa6FI",
        "outputId": "52a4a879-e4a0-4bfd-d792-c79eb51b2065"
      },
      "outputs": [
        {
          "name": "stdout",
          "output_type": "stream",
          "text": [
            "Epoch 1/10\n",
            "516/516 [==============================] - 16s 29ms/step - loss: 1.0605 - accuracy: 0.7138 - val_loss: 0.4362 - val_accuracy: 0.8878\n",
            "Epoch 2/10\n",
            "516/516 [==============================] - 18s 35ms/step - loss: 0.3259 - accuracy: 0.9141 - val_loss: 0.2970 - val_accuracy: 0.9186\n",
            "Epoch 3/10\n",
            "516/516 [==============================] - 15s 29ms/step - loss: 0.2373 - accuracy: 0.9306 - val_loss: 0.2900 - val_accuracy: 0.9249\n",
            "Epoch 4/10\n",
            "516/516 [==============================] - 14s 26ms/step - loss: 0.1840 - accuracy: 0.9433 - val_loss: 0.2344 - val_accuracy: 0.9338\n",
            "Epoch 5/10\n",
            "516/516 [==============================] - 14s 26ms/step - loss: 0.1485 - accuracy: 0.9516 - val_loss: 0.2052 - val_accuracy: 0.9389\n",
            "Epoch 6/10\n",
            "516/516 [==============================] - 14s 26ms/step - loss: 0.1234 - accuracy: 0.9574 - val_loss: 0.1774 - val_accuracy: 0.9508\n",
            "Epoch 7/10\n",
            "516/516 [==============================] - 14s 26ms/step - loss: 0.1084 - accuracy: 0.9622 - val_loss: 0.1866 - val_accuracy: 0.9452\n",
            "Epoch 8/10\n",
            "516/516 [==============================] - 14s 27ms/step - loss: 0.0905 - accuracy: 0.9661 - val_loss: 0.1936 - val_accuracy: 0.9491\n",
            "Epoch 9/10\n",
            "516/516 [==============================] - 14s 27ms/step - loss: 0.0895 - accuracy: 0.9661 - val_loss: 0.1995 - val_accuracy: 0.9464\n",
            "Epoch 10/10\n",
            "516/516 [==============================] - 14s 27ms/step - loss: 0.0721 - accuracy: 0.9717 - val_loss: 0.1898 - val_accuracy: 0.9527\n"
          ]
        },
        {
          "data": {
            "text/plain": [
              "<keras.src.callbacks.History at 0x7cb124d53520>"
            ]
          },
          "execution_count": 15,
          "metadata": {},
          "output_type": "execute_result"
        }
      ],
      "source": [
        "# Train the model\n",
        "model.fit(train_images, train_labels, epochs=10, batch_size=32, validation_data=(val_images, val_labels))\n"
      ]
    },
    {
      "cell_type": "code",
      "execution_count": 16,
      "metadata": {
        "colab": {
          "base_uri": "https://localhost:8080/"
        },
        "id": "-Wu-164ra6Hr",
        "outputId": "d18977ca-d553-44f9-b645-1f75f76c99ca"
      },
      "outputs": [
        {
          "name": "stdout",
          "output_type": "stream",
          "text": [
            "102/102 [==============================] - 1s 8ms/step - loss: 0.0537 - accuracy: 0.9756\n",
            "Test accuracy: 0.9756247997283936\n"
          ]
        }
      ],
      "source": [
        "# Evaluate the model\n",
        "test_loss, test_acc = model.evaluate(test_images, test_labels)\n",
        "print('Test accuracy:', test_acc)"
      ]
    },
    {
      "cell_type": "code",
      "execution_count": null,
      "metadata": {
        "id": "uY_DQAbCa6KF"
      },
      "outputs": [],
      "source": []
    },
    {
      "cell_type": "code",
      "execution_count": 17,
      "metadata": {
        "colab": {
          "base_uri": "https://localhost:8080/"
        },
        "id": "GjT95Ot2a6M0",
        "outputId": "58f1d4bb-a1b9-4b5e-e5ad-1db1ec58bb38"
      },
      "outputs": [
        {
          "name": "stdout",
          "output_type": "stream",
          "text": [
            "1/1 [==============================] - 0s 280ms/step\n",
            "Predicted Class: 1\n"
          ]
        }
      ],
      "source": [
        "import cv2\n",
        "import numpy as np\n",
        "\n",
        "# Function to preprocess a single image\n",
        "def preprocess_image(image_path):\n",
        "    try:\n",
        "        image = cv2.imread(image_path, cv2.IMREAD_GRAYSCALE)  # Load image in grayscale\n",
        "        if image is None:\n",
        "            print(f\"Warning: Unable to load image '{image_path}'\")\n",
        "            return None\n",
        "        image = cv2.resize(image, (28, 28))  # Resize image to 28x28\n",
        "        image = image.astype('float32') / 255.0  # Normalize pixel values\n",
        "        image = np.expand_dims(image, axis=0)  # Add batch dimension\n",
        "        return image\n",
        "    except Exception as e:\n",
        "        print(f\"Error loading or preprocessing image '{image_path}': {str(e)}\")\n",
        "        return None\n",
        "\n",
        "# Function to predict the class of a single image\n",
        "def predict_image_class(image_path, model, label_binarizer):\n",
        "    image = preprocess_image(image_path)\n",
        "    if image is None:\n",
        "        return None\n",
        "    predicted_probabilities = model.predict(image)\n",
        "    predicted_class_index = np.argmax(predicted_probabilities)\n",
        "    predicted_class = label_binarizer.classes_[predicted_class_index]\n",
        "    return predicted_class\n",
        "\n",
        "# Load trained model and label binarizer\n",
        "# Assuming `model` and `label_binarizer` are already defined and trained\n",
        "\n",
        "# Path to the image you want to predict\n",
        "image_path = '/content/data/training_data/1/11737.png'\n",
        "\n",
        "# Predict the class of the image\n",
        "predicted_class = predict_image_class(image_path, model, label_binarizer)\n",
        "\n",
        "# Print the predicted class\n",
        "if predicted_class is not None:\n",
        "    print(\"Predicted Class:\", predicted_class)\n"
      ]
    },
    {
      "cell_type": "code",
      "execution_count": null,
      "metadata": {
        "id": "-wzCFj4ka6Ph"
      },
      "outputs": [],
      "source": []
    },
    {
      "cell_type": "code",
      "execution_count": null,
      "metadata": {
        "id": "r61OM1-Xa6R3"
      },
      "outputs": [],
      "source": []
    },
    {
      "cell_type": "code",
      "execution_count": null,
      "metadata": {
        "id": "QheWiwuua6Uh"
      },
      "outputs": [],
      "source": []
    },
    {
      "cell_type": "code",
      "execution_count": null,
      "metadata": {
        "id": "KITZYB5Fa6XJ"
      },
      "outputs": [],
      "source": []
    },
    {
      "cell_type": "code",
      "execution_count": null,
      "metadata": {
        "id": "GBreezRHa6ZZ"
      },
      "outputs": [],
      "source": []
    },
    {
      "cell_type": "code",
      "execution_count": null,
      "metadata": {
        "id": "QUF-JmK3a6cL"
      },
      "outputs": [],
      "source": []
    },
    {
      "cell_type": "code",
      "execution_count": null,
      "metadata": {
        "id": "gbGV7b9aa6eg"
      },
      "outputs": [],
      "source": []
    },
    {
      "cell_type": "code",
      "execution_count": null,
      "metadata": {
        "id": "TRIgf0d7a6gx"
      },
      "outputs": [],
      "source": []
    },
    {
      "cell_type": "code",
      "execution_count": null,
      "metadata": {
        "id": "Efpv_Opoa6jU"
      },
      "outputs": [],
      "source": []
    },
    {
      "cell_type": "code",
      "execution_count": null,
      "metadata": {
        "id": "8Ta-aEsQa6la"
      },
      "outputs": [],
      "source": []
    },
    {
      "cell_type": "code",
      "execution_count": null,
      "metadata": {
        "id": "mH_oV1Xma6pF"
      },
      "outputs": [],
      "source": []
    }
  ],
  "metadata": {
    "colab": {
      "provenance": []
    },
    "kernelspec": {
      "display_name": "Python 3",
      "name": "python3"
    },
    "language_info": {
      "name": "python"
    }
  },
  "nbformat": 4,
  "nbformat_minor": 0
}
